{
  "nbformat": 4,
  "nbformat_minor": 0,
  "metadata": {
    "colab": {
      "provenance": [],
      "authorship_tag": "ABX9TyNHc+pepiQL4t0o8D8sjsIH",
      "include_colab_link": true
    },
    "kernelspec": {
      "name": "python3",
      "display_name": "Python 3"
    },
    "language_info": {
      "name": "python"
    }
  },
  "cells": [
    {
      "cell_type": "markdown",
      "metadata": {
        "id": "view-in-github",
        "colab_type": "text"
      },
      "source": [
        "<a href=\"https://colab.research.google.com/github/Copenhagen1822/Agrinho-2-Tri/blob/main/Introdu%C3%A7%C3%A3o_a_Python.ipynb\" target=\"_parent\"><img src=\"https://colab.research.google.com/assets/colab-badge.svg\" alt=\"Open In Colab\"/></a>"
      ]
    },
    {
      "cell_type": "markdown",
      "source": [
        "## Aula 1"
      ],
      "metadata": {
        "id": "gse1tiizKQ2r"
      }
    },
    {
      "cell_type": "code",
      "source": [],
      "metadata": {
        "id": "dLt4CHE1IFmq"
      },
      "execution_count": null,
      "outputs": []
    },
    {
      "cell_type": "code",
      "execution_count": null,
      "metadata": {
        "colab": {
          "base_uri": "https://localhost:8080/"
        },
        "id": "7bl-GkGeG9J7",
        "outputId": "a50fb82d-10a2-4f49-dc05-3cf3c4daa06b"
      },
      "outputs": [
        {
          "output_type": "stream",
          "name": "stdout",
          "text": [
            "I Competição de Programação da Start\n"
          ]
        }
      ],
      "source": [
        "print (\"I Competição de Programação da Start\")"
      ]
    },
    {
      "cell_type": "code",
      "source": [
        "ano = \"II\"\n",
        "\n",
        "print(ano, \"Competição de Programação da Start\")"
      ],
      "metadata": {
        "colab": {
          "base_uri": "https://localhost:8080/"
        },
        "id": "4JshziM0IR5B",
        "outputId": "2072a269-f371-4f2c-8340-af4e8d799818"
      },
      "execution_count": null,
      "outputs": [
        {
          "output_type": "stream",
          "name": "stdout",
          "text": [
            "II Competição de Programação da Start\n"
          ]
        }
      ]
    },
    {
      "cell_type": "code",
      "source": [
        "print(f\"{ano} Competição de Programação da Start\")"
      ],
      "metadata": {
        "colab": {
          "base_uri": "https://localhost:8080/"
        },
        "id": "qpbh2nFhI689",
        "outputId": "2b2b7810-4a22-402a-a05d-12265293b7c3"
      },
      "execution_count": null,
      "outputs": [
        {
          "output_type": "stream",
          "name": "stdout",
          "text": [
            "II Competição de Programação da Start\n"
          ]
        }
      ]
    },
    {
      "cell_type": "markdown",
      "source": [
        "## Aula 2\n"
      ],
      "metadata": {
        "id": "kiSp5WZ-KZhb"
      }
    },
    {
      "cell_type": "markdown",
      "source": [
        "Uma escola está promovendo uma campanha de incentivo à leitura, em que cada estudante recebe pontos ao concluir livros. Esses pontos podem ser trocados por diferentes prêmios da escola, e as categorias de livros têm valores diferntes de pontos:\n",
        "\n",
        "Ficção: 8 pontos;\n",
        "Não ficção: 8 ponto;\n",
        "Infantis: 6 pontos.\n",
        "Rodrigo, um estudante dessa escola, leu um livro de cada categoria e, agora, quer saber quantos pontos acumulou com sua leitura. Para isso, você deve criar um programa em Python que tenha as seguintes características:\n",
        "\n",
        "Consiga armazenar os pontos de cada categoria de livro;\n",
        "Calcule os pontos de Rodrigo;\n",
        "Apresente na tela os pontos de Rodrigo."
      ],
      "metadata": {
        "id": "-1QQcVXGKuGB"
      }
    },
    {
      "cell_type": "code",
      "source": [
        "Livro_ficcao = 10\n",
        "Livro_nficcao = 8\n",
        "Livro_infantil = 6\n",
        "\n",
        "pontos_rodrigo = Livro_ficcao + Livro_nficcao + Livro_infantil\n",
        "\n",
        "print(f\"Os pontos totais do Rodrigo são: {pontos_rodrigo}\")"
      ],
      "metadata": {
        "colab": {
          "base_uri": "https://localhost:8080/"
        },
        "id": "07jqAseTLAdK",
        "outputId": "7a1b5bc7-7e07-4781-8dd1-61e596a84594"
      },
      "execution_count": null,
      "outputs": [
        {
          "output_type": "stream",
          "name": "stdout",
          "text": [
            "Os pontos totais do Rodrigo são: 24\n"
          ]
        }
      ]
    },
    {
      "cell_type": "markdown",
      "source": [
        "Ana, outra estudante dessa escola, participou da campanha e leu dois livros de ficção e cinco livros infantis. Para resolvê-lo, responda as seguintes perguntas programando em Python:\n",
        "\n",
        "Quantos pontos Ana acumulou ao final da leitura?\n",
        "Qual é o total de pontos acumulados por Rodrigo e Ana juntos?"
      ],
      "metadata": {
        "id": "t2bx4PH1M4AJ"
      }
    },
    {
      "cell_type": "code",
      "source": [
        "Livro_ficcao = 10\n",
        "Livro_infantil = 8\n",
        "\n",
        "pontos_ana = Livro_ficcao + Livro_infantil\n",
        "\n",
        "print(f\"Os pontos totais de Ana são: {pontos_ana}\")"
      ],
      "metadata": {
        "colab": {
          "base_uri": "https://localhost:8080/"
        },
        "id": "oz_Is-jMM_cY",
        "outputId": "f208f61f-9602-4aff-cbd2-1fda962c51a1"
      },
      "execution_count": null,
      "outputs": [
        {
          "output_type": "stream",
          "name": "stdout",
          "text": [
            "Os pontos totais de Ana são: 18\n"
          ]
        }
      ]
    },
    {
      "cell_type": "markdown",
      "source": [
        "## Aula 3"
      ],
      "metadata": {
        "id": "Gsdvqi2tNtKw"
      }
    },
    {
      "cell_type": "code",
      "source": [
        "total_figurinhas = int(input())\n",
        "numero_amigos = int(input())"
      ],
      "metadata": {
        "colab": {
          "base_uri": "https://localhost:8080/"
        },
        "id": "897vDAJGNucz",
        "outputId": "ba94f64f-b492-42d2-86d9-d7c2033c196a"
      },
      "execution_count": null,
      "outputs": [
        {
          "name": "stdout",
          "output_type": "stream",
          "text": [
            "100\n"
          ]
        }
      ]
    },
    {
      "cell_type": "markdown",
      "source": [
        "#Aula 4\n"
      ],
      "metadata": {
        "id": "a6DfJBiBA3cm"
      }
    },
    {
      "cell_type": "code",
      "source": [
        "numero_alunos = int(input(\"Digite a quantidade de alunos: \"))\n",
        "numero_monitores = int(input(\"Digite a quantidade de monitores: \"))\n",
        "resposta_positiva = \"Pode ir\"\n",
        "resposta_negativa = \"Não pode ir\"\n",
        "\n",
        "if numero_alunos + numero_monitores <= 50:\n",
        "  print(resposta_positiva)\n",
        "else:\n",
        "  print(resposta_negativa)"
      ],
      "metadata": {
        "id": "kjXGjT_2A6YG",
        "outputId": "78ad40b7-44ad-45fd-f8ad-6fabbdc6ae79",
        "colab": {
          "base_uri": "https://localhost:8080/"
        }
      },
      "execution_count": 5,
      "outputs": [
        {
          "output_type": "stream",
          "name": "stdout",
          "text": [
            "Digite a quantidade de alunos: 60\n",
            "Digite a quantidade de monitores: 1\n",
            "Não pode ir\n"
          ]
        }
      ]
    },
    {
      "cell_type": "markdown",
      "source": [
        "#Aula 5"
      ],
      "metadata": {
        "id": "cA6YeZL_A-uO"
      }
    },
    {
      "cell_type": "code",
      "source": [
        "p = int(input(\"Digite a posição da porta p (0 ou 1):\"))\n",
        "r = int(input(\"Digite a posição da porta r (0 ou 1):\"))\n",
        "\n",
        "if p==0 and r==0:\n",
        "  print(\"C\")\n",
        "elif p==0 and r==1:\n",
        "    print(\"C\")\n",
        "elif p==1 and r==1:\n",
        "  print(\"A\")\n",
        "else:\n",
        "  print(\"B\")"
      ],
      "metadata": {
        "id": "Y7S0WiydBA_H"
      },
      "execution_count": null,
      "outputs": []
    },
    {
      "cell_type": "markdown",
      "source": [
        "#Aula 6"
      ],
      "metadata": {
        "id": "YqAq5TaQBRFv"
      }
    },
    {
      "cell_type": "code",
      "source": [
        "def calcula_idade_maior(idade_monica, idade_filho1, idade_filho2):\n",
        "  idade_filho3 = idade_monica - idade_filho1 - idade_filho2\n",
        "\n",
        "  idade_maxima = max(idade_filho1, idade_filho2, idade_filho3)\n",
        "\n",
        "  return idade_filho3, idade_maxima\n",
        "\n",
        "calcula_idade_maior(62, 14, 33)"
      ],
      "metadata": {
        "id": "HiiWuU80BSfv",
        "outputId": "88270b43-2245-44e5-ad89-a6bfd41bac3d",
        "colab": {
          "base_uri": "https://localhost:8080/"
        }
      },
      "execution_count": 10,
      "outputs": [
        {
          "output_type": "execute_result",
          "data": {
            "text/plain": [
              "(15, 33)"
            ]
          },
          "metadata": {},
          "execution_count": 10
        }
      ]
    },
    {
      "cell_type": "markdown",
      "source": [
        "#Aula 7"
      ],
      "metadata": {
        "id": "6_Alrlo1B1yv"
      }
    },
    {
      "cell_type": "code",
      "source": [
        "def tabuada(numero):\n",
        "    for contador in range(1, 11):  # Gera números de 1 a 10\n",
        "        print(f\"{numero} x {contador} = {numero * contador}\")\n",
        "\n",
        "# numero_usuario = int(input(\"Digite um número para ver sua tabuada: \"))\n",
        "tabuada(12)"
      ],
      "metadata": {
        "id": "5tzzH7vKB3u_"
      },
      "execution_count": null,
      "outputs": []
    },
    {
      "cell_type": "markdown",
      "source": [
        "#Aula 8"
      ],
      "metadata": {
        "id": "XriQC5sLCVww"
      }
    },
    {
      "cell_type": "markdown",
      "source": [
        "Nós resolvemos muitos problemas nessa unidade. Para resolver esse problema nós seguimos diversos caminhos, mas o essencial que precisamos considerar na hora de resolver problemas é:\n",
        "\n",
        "1. Ler o problema com calma e atenção e entender o que ele está pedindo de fato\n",
        "2. Identificar os dados fornecido\n",
        "3. Identificar o que precisa ser descoberto\n",
        "4. Planejar a solução (vou precisar de variáveis? funções? quais parametros, quais calculos são realizados, quais as entradas, quais as saídas)\n",
        "5. Resolver o problema"
      ],
      "metadata": {
        "id": "5_bfam9jDSNn"
      }
    }
  ]
}